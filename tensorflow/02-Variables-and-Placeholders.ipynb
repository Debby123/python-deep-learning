{
 "metadata": {
  "kernelspec": {
   "display_name": "Python 3",
   "language": "python",
   "name": "python3"
  },
  "language_info": {
   "codemirror_mode": {
    "name": "ipython",
    "version": 3
   },
   "file_extension": ".py",
   "mimetype": "text/x-python",
   "name": "python",
   "nbconvert_exporter": "python",
   "pygments_lexer": "ipython3",
   "version": "3.5.4"
  },
  "name": "",
  "signature": "sha256:88353e711027e295c621510c6d6f4f9c485fc877c9f496234e3f1f785d1313cd"
 },
 "nbformat": 3,
 "nbformat_minor": 0,
 "worksheets": [
  {
   "cells": [
    {
     "cell_type": "heading",
     "level": 1,
     "metadata": {},
     "source": [
      "Variables and Placeholders"
     ]
    },
    {
     "cell_type": "code",
     "collapsed": true,
     "input": [
      "import tensorflow as tf"
     ],
     "language": "python",
     "metadata": {},
     "outputs": [],
     "prompt_number": 1
    },
    {
     "cell_type": "code",
     "collapsed": false,
     "input": [
      "sess = tf.InteractiveSession()"
     ],
     "language": "python",
     "metadata": {},
     "outputs": [],
     "prompt_number": 2
    },
    {
     "cell_type": "heading",
     "level": 2,
     "metadata": {},
     "source": [
      "Variables"
     ]
    },
    {
     "cell_type": "code",
     "collapsed": true,
     "input": [
      "my_tensor = tf.random_uniform((4,4),0,1)"
     ],
     "language": "python",
     "metadata": {},
     "outputs": [],
     "prompt_number": 3
    },
    {
     "cell_type": "code",
     "collapsed": true,
     "input": [
      "my_var = tf.Variable(initial_value=my_tensor)"
     ],
     "language": "python",
     "metadata": {},
     "outputs": [],
     "prompt_number": 4
    },
    {
     "cell_type": "code",
     "collapsed": false,
     "input": [
      "print(my_var)"
     ],
     "language": "python",
     "metadata": {},
     "outputs": [
      {
       "output_type": "stream",
       "stream": "stdout",
       "text": [
        "<tf.Variable 'Variable:0' shape=(4, 4) dtype=float32_ref>\n"
       ]
      }
     ],
     "prompt_number": 5
    },
    {
     "cell_type": "heading",
     "level": 4,
     "metadata": {},
     "source": [
      "Note! Initialize all global variables!"
     ]
    },
    {
     "cell_type": "code",
     "collapsed": true,
     "input": [
      "# This line is really important, it is easy to forget!\n",
      "init = tf.global_variables_initializer()"
     ],
     "language": "python",
     "metadata": {},
     "outputs": [],
     "prompt_number": 6
    },
    {
     "cell_type": "code",
     "collapsed": true,
     "input": [
      "init.run()"
     ],
     "language": "python",
     "metadata": {},
     "outputs": [],
     "prompt_number": 7
    },
    {
     "cell_type": "code",
     "collapsed": false,
     "input": [
      "my_var.eval()"
     ],
     "language": "python",
     "metadata": {},
     "outputs": [
      {
       "metadata": {},
       "output_type": "pyout",
       "prompt_number": 8,
       "text": [
        "array([[ 0.18764639,  0.76903498,  0.88519645,  0.89911747],\n",
        "       [ 0.18354201,  0.63433743,  0.42470503,  0.27359927],\n",
        "       [ 0.45305872,  0.65249109,  0.74132109,  0.19152677],\n",
        "       [ 0.60576665,  0.71895587,  0.69150388,  0.33336747]], dtype=float32)"
       ]
      }
     ],
     "prompt_number": 8
    },
    {
     "cell_type": "code",
     "collapsed": false,
     "input": [
      "sess.run(my_var)"
     ],
     "language": "python",
     "metadata": {},
     "outputs": [
      {
       "metadata": {},
       "output_type": "pyout",
       "prompt_number": 9,
       "text": [
        "array([[ 0.18764639,  0.76903498,  0.88519645,  0.89911747],\n",
        "       [ 0.18354201,  0.63433743,  0.42470503,  0.27359927],\n",
        "       [ 0.45305872,  0.65249109,  0.74132109,  0.19152677],\n",
        "       [ 0.60576665,  0.71895587,  0.69150388,  0.33336747]], dtype=float32)"
       ]
      }
     ],
     "prompt_number": 9
    },
    {
     "cell_type": "heading",
     "level": 2,
     "metadata": {},
     "source": [
      "Placeholders"
     ]
    },
    {
     "cell_type": "code",
     "collapsed": true,
     "input": [
      "ph = tf.placeholder(tf.float64)"
     ],
     "language": "python",
     "metadata": {},
     "outputs": [],
     "prompt_number": 10
    },
    {
     "cell_type": "code",
     "collapsed": true,
     "input": [
      "ph = tf.placeholder(tf.int32)"
     ],
     "language": "python",
     "metadata": {},
     "outputs": [],
     "prompt_number": 11
    },
    {
     "cell_type": "code",
     "collapsed": true,
     "input": [
      "# For shape its common to use (None,# of Features) \n",
      "# because None can be filled by number of samples in data\n",
      "ph = tf.placeholder(tf.float32,shape=(None,5))"
     ],
     "language": "python",
     "metadata": {},
     "outputs": [],
     "prompt_number": 13
    },
    {
     "cell_type": "markdown",
     "metadata": {},
     "source": [
      "Next, we'll put this all together"
     ]
    }
   ],
   "metadata": {}
  }
 ]
}